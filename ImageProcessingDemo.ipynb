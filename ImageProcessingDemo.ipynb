{
 "cells": [
  {
   "cell_type": "code",
   "execution_count": 1,
   "id": "b3316893",
   "metadata": {},
   "outputs": [],
   "source": [
    "import numpy as np\n",
    "import cv2"
   ]
  },
  {
   "cell_type": "code",
   "execution_count": 2,
   "id": "b4f0b3a6",
   "metadata": {},
   "outputs": [],
   "source": [
    "img = cv2.imread('image.jpg')"
   ]
  },
  {
   "cell_type": "code",
   "execution_count": 3,
   "id": "011ea1ca",
   "metadata": {},
   "outputs": [
    {
     "data": {
      "text/plain": [
       "(1600, 2560, 3)"
      ]
     },
     "execution_count": 3,
     "metadata": {},
     "output_type": "execute_result"
    }
   ],
   "source": [
    "img.shape"
   ]
  },
  {
   "cell_type": "code",
   "execution_count": 4,
   "id": "cf6d4265",
   "metadata": {},
   "outputs": [
    {
     "data": {
      "text/plain": [
       "array([[[173, 176, 181],\n",
       "        [173, 176, 181],\n",
       "        [173, 176, 181],\n",
       "        ...,\n",
       "        [163, 173, 190],\n",
       "        [163, 173, 190],\n",
       "        [163, 173, 190]],\n",
       "\n",
       "       [[173, 176, 181],\n",
       "        [173, 176, 181],\n",
       "        [173, 176, 181],\n",
       "        ...,\n",
       "        [165, 175, 192],\n",
       "        [165, 175, 192],\n",
       "        [165, 175, 192]],\n",
       "\n",
       "       [[173, 176, 181],\n",
       "        [173, 176, 181],\n",
       "        [173, 176, 181],\n",
       "        ...,\n",
       "        [167, 177, 194],\n",
       "        [167, 177, 194],\n",
       "        [167, 177, 194]],\n",
       "\n",
       "       ...,\n",
       "\n",
       "       [[118, 125,  90],\n",
       "        [118, 125,  90],\n",
       "        [118, 126,  89],\n",
       "        ...,\n",
       "        [ 77,  58,   7],\n",
       "        [ 80,  60,  12],\n",
       "        [ 82,  62,  14]],\n",
       "\n",
       "       [[117, 127,  91],\n",
       "        [116, 126,  90],\n",
       "        [117, 128,  90],\n",
       "        ...,\n",
       "        [ 77,  57,   2],\n",
       "        [ 80,  59,   7],\n",
       "        [ 83,  62,  11]],\n",
       "\n",
       "       [[117, 127,  91],\n",
       "        [117, 127,  91],\n",
       "        [117, 128,  90],\n",
       "        ...,\n",
       "        [ 77,  58,   1],\n",
       "        [ 82,  60,   8],\n",
       "        [ 85,  63,  11]]], dtype=uint8)"
      ]
     },
     "execution_count": 4,
     "metadata": {},
     "output_type": "execute_result"
    }
   ],
   "source": [
    "# return value in BGR instead of RGB\n",
    "img"
   ]
  },
  {
   "cell_type": "code",
   "execution_count": 5,
   "id": "5d365087",
   "metadata": {},
   "outputs": [],
   "source": [
    "# cv2.imshow(\"image\",img)"
   ]
  },
  {
   "cell_type": "code",
   "execution_count": 7,
   "id": "1993b6ef",
   "metadata": {},
   "outputs": [],
   "source": [
    "img = cv2.resize(img, None, None, fx=0.5, fy=0.5)\n",
    "while True:\n",
    "    cv2.imshow('image', img)\n",
    "    #27 - ASCII number of escape\n",
    "    #2 - value in millisecond\n",
    "    if cv2.waitKey(2) == 27:\n",
    "        break\n",
    "cv2.destroyAllWindows()"
   ]
  },
  {
   "cell_type": "code",
   "execution_count": null,
   "id": "da2de327",
   "metadata": {},
   "outputs": [],
   "source": []
  },
  {
   "cell_type": "code",
   "execution_count": null,
   "id": "f591d342",
   "metadata": {},
   "outputs": [],
   "source": []
  },
  {
   "cell_type": "code",
   "execution_count": 6,
   "id": "5e7eaf23",
   "metadata": {},
   "outputs": [],
   "source": [
    "video = cv2.VideoCapture('video_2.wmv')\n",
    "# img = cv2.resize(img, None, None, fx=0.5, fy=0.5)\n",
    "i = 0\n",
    "while True:\n",
    "    flag, frame = video.read()\n",
    "    if flag:\n",
    "        cv2.imshow('image', frame)\n",
    "        cv2.imwrite('images/img_{}.jpg'.format(i), frame)\n",
    "        i += 1\n",
    "        if cv2.waitKey(2) == 27:\n",
    "            break\n",
    "    else:\n",
    "        print(\"Video not found...\")\n",
    "cv2.destroyAllWindows()\n",
    "video.release()"
   ]
  },
  {
   "cell_type": "code",
   "execution_count": null,
   "id": "06e2e8d3",
   "metadata": {},
   "outputs": [],
   "source": []
  },
  {
   "cell_type": "code",
   "execution_count": null,
   "id": "31696f95",
   "metadata": {},
   "outputs": [],
   "source": []
  },
  {
   "cell_type": "code",
   "execution_count": 7,
   "id": "7f28d90c",
   "metadata": {},
   "outputs": [],
   "source": [
    "video = cv2.VideoCapture(0)\n",
    "# img = cv2.resize(img, None, None, fx=0.5, fy=0.5)\n",
    "i = 0\n",
    "while True:\n",
    "    flag, frame = video.read()\n",
    "    if flag:\n",
    "        cv2.imshow('image', frame)\n",
    "        cv2.imwrite('images/img_{}.jpg'.format(i), frame)\n",
    "        i += 1\n",
    "        if cv2.waitKey(2) == 27:\n",
    "            break\n",
    "    else:\n",
    "        print(\"Video not found...\")\n",
    "cv2.destroyAllWindows()\n",
    "video.release()"
   ]
  },
  {
   "cell_type": "code",
   "execution_count": 8,
   "id": "a9c2e667",
   "metadata": {},
   "outputs": [],
   "source": [
    "haar_data = cv2.CascadeClassifier('haarcascade_frontalface_default.xml')"
   ]
  },
  {
   "cell_type": "code",
   "execution_count": 9,
   "id": "95e6dfa6",
   "metadata": {},
   "outputs": [
    {
     "data": {
      "text/plain": [
       "array([[146, 102, 232, 232]], dtype=int32)"
      ]
     },
     "execution_count": 9,
     "metadata": {},
     "output_type": "execute_result"
    }
   ],
   "source": [
    "haar_data.detectMultiScale(frame)"
   ]
  },
  {
   "cell_type": "code",
   "execution_count": 10,
   "id": "808df5af",
   "metadata": {},
   "outputs": [],
   "source": [
    "video = cv2.VideoCapture(0)\n",
    "i = 0\n",
    "while True:\n",
    "    flag, frame = video.read()\n",
    "    if flag:\n",
    "        faces = haar_data.detectMultiScale(frame)\n",
    "        for x,y,w,h in faces:\n",
    "            cv2.rectangle(frame, (x,y), (x+w, y+h), (255,0,0),5)\n",
    "        cv2.imshow('image', frame)\n",
    "        cv2.imwrite('images/img_{}.jpg'.format(i), frame)\n",
    "        i += 1\n",
    "        if cv2.waitKey(2) == 27:\n",
    "            break\n",
    "    else:\n",
    "        print(\"Video not found...\")\n",
    "cv2.destroyAllWindows()\n",
    "video.release()"
   ]
  },
  {
   "cell_type": "code",
   "execution_count": null,
   "id": "20fe8ccb",
   "metadata": {},
   "outputs": [],
   "source": []
  },
  {
   "cell_type": "code",
   "execution_count": null,
   "id": "0d3bbb07",
   "metadata": {},
   "outputs": [],
   "source": []
  },
  {
   "cell_type": "code",
   "execution_count": 12,
   "id": "01abf2ce",
   "metadata": {},
   "outputs": [],
   "source": [
    "video = cv2.VideoCapture(0)\n",
    "i = 0\n",
    "while True:\n",
    "    flag, frame = video.read()\n",
    "    if flag:\n",
    "        faces = haar_data.detectMultiScale(frame)\n",
    "        for x,y,w,h in faces:\n",
    "            cv2.rectangle(frame, (x,y), (x+w, y+h), (255,0,0),5)\n",
    "        face = frame[y:y+h, x:x+w,:]\n",
    "        face = cv2.resize(face, (50,50))\n",
    "        cv2.imshow('image', frame)\n",
    "        cv2.imwrite('images/img_{}.jpg'.format(i), face)\n",
    "        i += 1\n",
    "        if cv2.waitKey(2) == 27:\n",
    "            break\n",
    "    else:\n",
    "        print(\"Video not found...\")\n",
    "cv2.destroyAllWindows()\n",
    "video.release()"
   ]
  },
  {
   "cell_type": "code",
   "execution_count": null,
   "id": "e84728df",
   "metadata": {},
   "outputs": [],
   "source": []
  }
 ],
 "metadata": {
  "kernelspec": {
   "display_name": "Python 3",
   "language": "python",
   "name": "python3"
  },
  "language_info": {
   "codemirror_mode": {
    "name": "ipython",
    "version": 3
   },
   "file_extension": ".py",
   "mimetype": "text/x-python",
   "name": "python",
   "nbconvert_exporter": "python",
   "pygments_lexer": "ipython3",
   "version": "3.8.8"
  }
 },
 "nbformat": 4,
 "nbformat_minor": 5
}
